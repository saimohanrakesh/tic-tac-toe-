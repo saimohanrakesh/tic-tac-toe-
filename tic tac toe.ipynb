{
 "cells": [
  {
   "cell_type": "code",
   "execution_count": 1,
   "metadata": {},
   "outputs": [],
   "source": [
    "def starting():\n",
    "    print(\"Hello Welcome to TIC TAC TOE\")\n",
    "    print(\"Player1:Enter the symbol you require from those \"+\"x or o\")\n",
    "    global p1\n",
    "    global p2\n",
    "    p1=input().upper()\n",
    "    if p1=='X':\n",
    "        p2='O'\n",
    "    elif p1=='O':\n",
    "        p2='X'\n",
    "    else:\n",
    "        print(\"select valid one\")\n",
    "        starting()\n",
    "    print(\"just have look of postion numbers\")\n",
    "    printer(a)\n",
    "    print(\"game starts now\\n\")\n",
    "    player1()"
   ]
  },
  {
   "cell_type": "code",
   "execution_count": 2,
   "metadata": {},
   "outputs": [],
   "source": [
    "def wincheck(b):\n",
    "    if b[0]==b[1]==b[2]:\n",
    "        return True\n",
    "    elif b[5]==b[4]==b[3]:\n",
    "        return True\n",
    "    elif b[6]==b[7]==b[8]:\n",
    "        return True\n",
    "    elif b[0]==b[3]==b[6]:\n",
    "        return True\n",
    "    elif b[1]==b[4]==b[7]:\n",
    "        return True\n",
    "    elif b[2]==b[5]==b[8]:\n",
    "        return True\n",
    "    elif b[0]==b[4]==b[8]:\n",
    "        return True\n",
    "    elif b[2]==b[4]==b[6]:\n",
    "        return True\n",
    "    else:\n",
    "        return False"
   ]
  },
  {
   "cell_type": "code",
   "execution_count": 3,
   "metadata": {},
   "outputs": [],
   "source": [
    "def testing(d):\n",
    "    i=0\n",
    "    for j in range(9):\n",
    "        if d[j]!='X'and d[j]!='O':\n",
    "            i=i+1\n",
    "    return i"
   ]
  },
  {
   "cell_type": "code",
   "execution_count": 4,
   "metadata": {},
   "outputs": [],
   "source": [
    "def check(i):\n",
    "    if not wincheck(a):\n",
    "        rem=testing(a)\n",
    "        if rem<1:\n",
    "            print(\"Good Game!! it's a tie\")\n",
    "            print(\"1:want to play again \\n 2:exit\")\n",
    "            rep=int(input())\n",
    "            if rep==1:\n",
    "                starting()\n",
    "            else:\n",
    "                print(\"Thank you\")\n",
    "        elif i==1:\n",
    "            printer(a)\n",
    "            player1()\n",
    "        else:\n",
    "            printer(a)\n",
    "            player2()\n",
    "    else:\n",
    "        printer(a)\n",
    "        print(\"\\n hooray you won the game\")\n",
    "        print(\"1:want to play again \\n 2:exit\")\n",
    "        rep=int(input())\n",
    "        if rep==1:\n",
    "            starting()\n",
    "        else:\n",
    "            print(\"Thank you\")\n",
    "    "
   ]
  },
  {
   "cell_type": "code",
   "execution_count": 5,
   "metadata": {},
   "outputs": [],
   "source": [
    "def printer(c):\n",
    "    print(f' {c[6]} | {c[7]} | {c[8]}\\n {c[3]} | {c[4]} | {c[5]}\\n {c[0]} | {c[1]} | {c[2]}')"
   ]
  },
  {
   "cell_type": "code",
   "execution_count": 6,
   "metadata": {},
   "outputs": [],
   "source": [
    "def player1():\n",
    "    print(\"player1:enter the position to be marked\")\n",
    "    abs=int(input())-1\n",
    "    if a[abs]!='X' and a[abs]!='O':\n",
    "        a[abs]=p1\n",
    "        i=2\n",
    "        check(i)\n",
    "    else:\n",
    "        print(\"give another vacant position\")\n",
    "        printer(a)\n",
    "        player1()\n",
    "def player2():\n",
    "    print(\"player2:enter the position to be marked\")\n",
    "    abs=int(input())-1\n",
    "    if a[abs]!='X' and a[abs]!='O':\n",
    "        a[abs]=p2\n",
    "        i=1\n",
    "        check(i)\n",
    "    else:\n",
    "        print(\"give another vacant position\")\n",
    "        printer(a)\n",
    "        player2()\n",
    "        "
   ]
  },
  {
   "cell_type": "code",
   "execution_count": 8,
   "metadata": {},
   "outputs": [
    {
     "name": "stdout",
     "output_type": "stream",
     "text": [
      "select an option \n",
      "\n",
      "1:ready for game \n",
      " 2:exit\n",
      "2\n",
      "Thank you!! Come again\n"
     ]
    }
   ],
   "source": [
    "\n",
    "a=['1','2','3','4','5','6','7','8','9']\n",
    "i=1\n",
    "print(\"select an option \\n\")\n",
    "print(\"1:ready for game \\n 2:exit\")\n",
    "n=int(input())\n",
    "if n==1:\n",
    "    starting()\n",
    "else:\n",
    "    print(\"Thank you!! Come again\")"
   ]
  },
  {
   "cell_type": "code",
   "execution_count": null,
   "metadata": {},
   "outputs": [],
   "source": []
  },
  {
   "cell_type": "code",
   "execution_count": null,
   "metadata": {},
   "outputs": [],
   "source": []
  }
 ],
 "metadata": {
  "kernelspec": {
   "display_name": "Python 3",
   "language": "python",
   "name": "python3"
  },
  "language_info": {
   "codemirror_mode": {
    "name": "ipython",
    "version": 3
   },
   "file_extension": ".py",
   "mimetype": "text/x-python",
   "name": "python",
   "nbconvert_exporter": "python",
   "pygments_lexer": "ipython3",
   "version": "3.7.3"
  }
 },
 "nbformat": 4,
 "nbformat_minor": 2
}
